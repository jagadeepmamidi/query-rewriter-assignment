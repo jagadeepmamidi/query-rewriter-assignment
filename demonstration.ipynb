{
 "cells": [
  {
   "cell_type": "markdown",
   "id": "0eeb9493",
   "metadata": {},
   "source": [
    "# Personalized Query Rewriter: Demonstration\n",
    "\n",
    "This notebook provides a demonstration of the personalized query rewriter system. We will walk through three key parts:\n",
    "\n",
    "1.  **The Dataset:** A look at the synthetic user data and query logs.\n",
    "2.  **The Rewriter:** A live example of how the query rewriter personalizes a query for a specific user.\n",
    "3.  **The Evaluation:** A summary of the evaluation results, comparing the rewritten queries to the ground truth."
   ]
  },
  {
   "cell_type": "code",
   "execution_count": 2,
   "id": "e2fe3a3f",
   "metadata": {},
   "outputs": [
    {
     "name": "stderr",
     "output_type": "stream",
     "text": [
      "c:\\Users\\jagad\\OneDrive\\Desktop\\query-rewriter-assignment\\venv\\Lib\\site-packages\\tqdm\\auto.py:21: TqdmWarning: IProgress not found. Please update jupyter and ipywidgets. See https://ipywidgets.readthedocs.io/en/stable/user_install.html\n",
      "  from .autonotebook import tqdm as notebook_tqdm\n"
     ]
    }
   ],
   "source": [
    "import json\n",
    "import pandas as pd\n",
    "from src.rewriter import SimpleQueryRewriter\n",
    "from src.evaluation import Evaluator\n",
    "\n",
    "# Set pandas display options for better readability\n",
    "pd.set_option('display.max_colwidth', 100)"
   ]
  },
  {
   "cell_type": "markdown",
   "id": "5c2394c8",
   "metadata": {},
   "source": [
    "## Part 1: The Synthetic Dataset\n",
    "\n",
    "To build and evaluate our system, we first generate a synthetic dataset. This dataset includes user profiles with defined `preferences` and a list of `queries`. Each query has an `original_query` and a `ground_truth_rewrite`, which serves as our ideal target for personalization."
   ]
  },
  {
   "cell_type": "code",
   "execution_count": 4,
   "id": "18753b3e",
   "metadata": {},
   "outputs": [
    {
     "name": "stdout",
     "output_type": "stream",
     "text": [
      "--- User Profiles ---\n",
      "ID: user_101, Name: Python Developer, Preferences: ['python', 'api', 'backend', 'performance', 'docker']\n",
      "ID: user_102, Name: Data Analyst, Preferences: ['pandas', 'sql', 'statistics', 'visualization', 'matplotlib']\n",
      "\n",
      "--- Sample Queries ---\n"
     ]
    },
    {
     "data": {
      "text/html": [
       "<div>\n",
       "<style scoped>\n",
       "    .dataframe tbody tr th:only-of-type {\n",
       "        vertical-align: middle;\n",
       "    }\n",
       "\n",
       "    .dataframe tbody tr th {\n",
       "        vertical-align: top;\n",
       "    }\n",
       "\n",
       "    .dataframe thead th {\n",
       "        text-align: right;\n",
       "    }\n",
       "</style>\n",
       "<table border=\"1\" class=\"dataframe\">\n",
       "  <thead>\n",
       "    <tr style=\"text-align: right;\">\n",
       "      <th></th>\n",
       "      <th>user_id</th>\n",
       "      <th>original_query</th>\n",
       "      <th>ground_truth_rewrite</th>\n",
       "    </tr>\n",
       "  </thead>\n",
       "  <tbody>\n",
       "    <tr>\n",
       "      <th>0</th>\n",
       "      <td>user_101</td>\n",
       "      <td>how to read a file</td>\n",
       "      <td>how to read a file in python with performance in mind</td>\n",
       "    </tr>\n",
       "    <tr>\n",
       "      <th>1</th>\n",
       "      <td>user_101</td>\n",
       "      <td>best way to build a web service</td>\n",
       "      <td>best way to build a python backend api with docker</td>\n",
       "    </tr>\n",
       "    <tr>\n",
       "      <th>2</th>\n",
       "      <td>user_102</td>\n",
       "      <td>clean up my dataset</td>\n",
       "      <td>how to clean up a dataset using pandas</td>\n",
       "    </tr>\n",
       "    <tr>\n",
       "      <th>3</th>\n",
       "      <td>user_102</td>\n",
       "      <td>show trends in sales data</td>\n",
       "      <td>how to show trends in sales data with matplotlib visualization</td>\n",
       "    </tr>\n",
       "  </tbody>\n",
       "</table>\n",
       "</div>"
      ],
      "text/plain": [
       "    user_id                   original_query  \\\n",
       "0  user_101               how to read a file   \n",
       "1  user_101  best way to build a web service   \n",
       "2  user_102              clean up my dataset   \n",
       "3  user_102        show trends in sales data   \n",
       "\n",
       "                                             ground_truth_rewrite  \n",
       "0           how to read a file in python with performance in mind  \n",
       "1              best way to build a python backend api with docker  \n",
       "2                          how to clean up a dataset using pandas  \n",
       "3  how to show trends in sales data with matplotlib visualization  "
      ]
     },
     "metadata": {},
     "output_type": "display_data"
    }
   ],
   "source": [
    "# Load the dataset from the JSON file\n",
    "with open('data/synthetic_data.json', 'r') as f:\n",
    "    data = json.load(f)\n",
    "\n",
    "# Display the user profiles\n",
    "print(\"--- User Profiles ---\")\n",
    "for user_id, profile in data['users'].items():\n",
    "    print(f\"ID: {user_id}, Name: {profile['name']}, Preferences: {profile['preferences']}\")\n",
    "\n",
    "print(\"\\n--- Sample Queries ---\")\n",
    "# Display the queries in a structured DataFrame\n",
    "queries_df = pd.DataFrame(data['queries'])\n",
    "display(queries_df.head())"
   ]
  },
  {
   "cell_type": "markdown",
   "id": "2fede202",
   "metadata": {},
   "source": [
    "## Part 2: The Query Rewriter in Action\n",
    "\n",
    "Our rewriter (`SimpleQueryRewriter`) uses a straightforward, rule-based approach.\n",
    "\n",
    "**Assumption:** Personalization can be achieved by appending relevant keywords from a user's profile to their original query.\n",
    "\n",
    "Let's see how it works with a live example. We'll take a generic query and personalize it for two different users."
   ]
  },
  {
   "cell_type": "code",
   "execution_count": 5,
   "id": "5c1cb15a",
   "metadata": {},
   "outputs": [
    {
     "name": "stdout",
     "output_type": "stream",
     "text": [
      "--- Personalizing for a Python Developer ---\n",
      "User Preferences: ['python', 'api', 'backend', 'performance', 'docker']\n",
      "Original Query:    'best way to build a web service'\n",
      "Rewritten Query:   'best way to build a web service python api backend performance docker'\n",
      "----------------------------------------\n",
      "--- Personalizing for a Data Analyst ---\n",
      "User Preferences: ['pandas', 'sql', 'statistics', 'visualization', 'matplotlib']\n",
      "Original Query:    'show trends in sales data'\n",
      "Rewritten Query:   'show trends in sales data pandas sql statistics visualization matplotlib'\n"
     ]
    }
   ],
   "source": [
    "# Initialize the rewriter\n",
    "rewriter = SimpleQueryRewriter('data/synthetic_data.json')\n",
    "\n",
    "# --- Example 1: Python Developer ---\n",
    "user1_id = \"user_101\"\n",
    "user1_query = \"best way to build a web service\"\n",
    "user1_prefs = data['users'][user1_id]['preferences']\n",
    "rewritten1 = rewriter.rewrite_query(user1_id, user1_query)\n",
    "\n",
    "print(f\"--- Personalizing for a Python Developer ---\")\n",
    "print(f\"User Preferences: {user1_prefs}\")\n",
    "print(f\"Original Query:    '{user1_query}'\")\n",
    "print(f\"Rewritten Query:   '{rewritten1}'\")\n",
    "print(\"-\" * 40)\n",
    "\n",
    "# --- Example 2: Data Analyst ---\n",
    "user2_id = \"user_102\"\n",
    "user2_query = \"show trends in sales data\"\n",
    "user2_prefs = data['users'][user2_id]['preferences']\n",
    "rewritten2 = rewriter.rewrite_query(user2_id, user2_query)\n",
    "\n",
    "print(f\"--- Personalizing for a Data Analyst ---\")\n",
    "print(f\"User Preferences: {user2_prefs}\")\n",
    "print(f\"Original Query:    '{user2_query}'\")\n",
    "print(f\"Rewritten Query:   '{rewritten2}'\")"
   ]
  },
  {
   "cell_type": "markdown",
   "id": "22cca909",
   "metadata": {},
   "source": [
    "## Part 3: Evaluation Results\n",
    "\n",
    "After running the rewriter on our entire dataset, we evaluate its performance using two metrics:\n",
    "\n",
    "1.  **BERTScore (F1):** An automatic metric that measures the semantic similarity between our rewritten query and the ground truth. A higher score is better.\n",
    "2.  **Qualitative Heuristic:** A simple 1-3 score to judge the degree of personalization.\n",
    "\n",
    "The full evaluation results, including these scores for every query, are stored in `data/evaluation_report.csv`."
   ]
  },
  {
   "cell_type": "code",
   "execution_count": 12,
   "id": "6ab34f14",
   "metadata": {},
   "outputs": [
    {
     "name": "stdout",
     "output_type": "stream",
     "text": [
      "--- Full Evaluation Report ---\n"
     ]
    },
    {
     "data": {
      "text/html": [
       "<div>\n",
       "<style scoped>\n",
       "    .dataframe tbody tr th:only-of-type {\n",
       "        vertical-align: middle;\n",
       "    }\n",
       "\n",
       "    .dataframe tbody tr th {\n",
       "        vertical-align: top;\n",
       "    }\n",
       "\n",
       "    .dataframe thead th {\n",
       "        text-align: right;\n",
       "    }\n",
       "</style>\n",
       "<table border=\"1\" class=\"dataframe\">\n",
       "  <thead>\n",
       "    <tr style=\"text-align: right;\">\n",
       "      <th></th>\n",
       "      <th>original_query</th>\n",
       "      <th>generated_rewrite</th>\n",
       "      <th>ground_truth</th>\n",
       "      <th>bert_f1</th>\n",
       "      <th>rouge_l</th>\n",
       "      <th>qualitative_score</th>\n",
       "    </tr>\n",
       "  </thead>\n",
       "  <tbody>\n",
       "    <tr>\n",
       "      <th>0</th>\n",
       "      <td>how to read a file</td>\n",
       "      <td>how to read a file python api backend performance docker</td>\n",
       "      <td>how to read a file in python with performance in mind</td>\n",
       "      <td>0.911595</td>\n",
       "      <td>0.666667</td>\n",
       "      <td>3</td>\n",
       "    </tr>\n",
       "    <tr>\n",
       "      <th>1</th>\n",
       "      <td>best way to build a web service</td>\n",
       "      <td>best way to build a web service python api backend performance docker</td>\n",
       "      <td>best way to build a python backend api with docker</td>\n",
       "      <td>0.942462</td>\n",
       "      <td>0.727273</td>\n",
       "      <td>3</td>\n",
       "    </tr>\n",
       "    <tr>\n",
       "      <th>2</th>\n",
       "      <td>clean up my dataset</td>\n",
       "      <td>clean up my dataset pandas sql statistics visualization matplotlib</td>\n",
       "      <td>how to clean up a dataset using pandas</td>\n",
       "      <td>0.870507</td>\n",
       "      <td>0.470588</td>\n",
       "      <td>2</td>\n",
       "    </tr>\n",
       "    <tr>\n",
       "      <th>3</th>\n",
       "      <td>show trends in sales data</td>\n",
       "      <td>show trends in sales data pandas sql statistics visualization matplotlib</td>\n",
       "      <td>how to show trends in sales data with matplotlib visualization</td>\n",
       "      <td>0.915342</td>\n",
       "      <td>0.600000</td>\n",
       "      <td>3</td>\n",
       "    </tr>\n",
       "  </tbody>\n",
       "</table>\n",
       "</div>"
      ],
      "text/plain": [
       "                    original_query  \\\n",
       "0               how to read a file   \n",
       "1  best way to build a web service   \n",
       "2              clean up my dataset   \n",
       "3        show trends in sales data   \n",
       "\n",
       "                                                          generated_rewrite  \\\n",
       "0                  how to read a file python api backend performance docker   \n",
       "1     best way to build a web service python api backend performance docker   \n",
       "2        clean up my dataset pandas sql statistics visualization matplotlib   \n",
       "3  show trends in sales data pandas sql statistics visualization matplotlib   \n",
       "\n",
       "                                                     ground_truth   bert_f1  \\\n",
       "0           how to read a file in python with performance in mind  0.911595   \n",
       "1              best way to build a python backend api with docker  0.942462   \n",
       "2                          how to clean up a dataset using pandas  0.870507   \n",
       "3  how to show trends in sales data with matplotlib visualization  0.915342   \n",
       "\n",
       "    rouge_l  qualitative_score  \n",
       "0  0.666667                  3  \n",
       "1  0.727273                  3  \n",
       "2  0.470588                  2  \n",
       "3  0.600000                  3  "
      ]
     },
     "metadata": {},
     "output_type": "display_data"
    }
   ],
   "source": [
    "# Load the evaluation report into a pandas DataFrame\n",
    "try:\n",
    "    evaluation_df = pd.read_csv('data/evaluation_report.csv')\n",
    "    print(\"--- Full Evaluation Report ---\")\n",
    "    display(evaluation_df)\n",
    "except FileNotFoundError:\n",
    "    print(\"Evaluation report not found. Please run 'python main.py' and 'python -m src.evaluation' first.\")"
   ]
  },
  {
   "cell_type": "code",
   "execution_count": 13,
   "id": "cbe865ed",
   "metadata": {},
   "outputs": [
    {
     "name": "stdout",
     "output_type": "stream",
     "text": [
      "--- Average Performance Metrics ---\n",
      "Average BERT F1 Score:     0.9100\n",
      "Average ROUGE-L Score:     0.6161\n",
      "Average Qualitative Score: 2.7500\n"
     ]
    }
   ],
   "source": [
    "# Calculate and display the average scores from the report\n",
    "if 'evaluation_df' in locals():\n",
    "    avg_bert_f1 = evaluation_df['bert_f1'].mean()\n",
    "    avg_rouge_l = evaluation_df['rouge_l'].mean()\n",
    "    avg_qual_score = evaluation_df['qualitative_score'].mean()\n",
    "\n",
    "    print(\"--- Average Performance Metrics ---\")\n",
    "    print(f\"Average BERT F1 Score:     {avg_bert_f1:.4f}\")\n",
    "    print(f\"Average ROUGE-L Score:     {avg_rouge_l:.4f}\")\n",
    "    print(f\"Average Qualitative Score: {avg_qual_score:.4f}\")"
   ]
  },
  {
   "cell_type": "markdown",
   "id": "0d32453b",
   "metadata": {},
   "source": [
    "## Conclusion\n",
    "\n",
    "This notebook demonstrated the core components of the query rewriting system. We saw how synthetic data can be used to simulate user profiles, how a simple rule-based rewriter can inject personalization, and how a combination of automatic and heuristic-based metrics can be used to evaluate the quality of the rewritten queries.\n",
    "\n",
    "**Potential Next Steps:**\n",
    "\n",
    "*   **Advanced Rewriting Logic:** Instead of simple keyword appending, a small language model could be used to generate more natural-sounding, context-aware rewrites.\n",
    "*   **Dynamic Preferences:** User preferences could be dynamically updated based on their query history rather than being static."
   ]
  }
 ],
 "metadata": {
  "kernelspec": {
   "display_name": "venv",
   "language": "python",
   "name": "python3"
  },
  "language_info": {
   "codemirror_mode": {
    "name": "ipython",
    "version": 3
   },
   "file_extension": ".py",
   "mimetype": "text/x-python",
   "name": "python",
   "nbconvert_exporter": "python",
   "pygments_lexer": "ipython3",
   "version": "3.11.5"
  }
 },
 "nbformat": 4,
 "nbformat_minor": 5
}
